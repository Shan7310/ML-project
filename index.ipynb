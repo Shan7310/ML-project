{
 "cells": [
  {
   "cell_type": "markdown",
   "metadata": {},
   "source": [
    "# My ML Project"
   ]
  },
  {
   "cell_type": "code",
   "execution_count": 1,
   "metadata": {},
   "outputs": [
    {
     "data": {
      "text/html": [
       "<div>\n",
       "<style scoped>\n",
       "    .dataframe tbody tr th:only-of-type {\n",
       "        vertical-align: middle;\n",
       "    }\n",
       "\n",
       "    .dataframe tbody tr th {\n",
       "        vertical-align: top;\n",
       "    }\n",
       "\n",
       "    .dataframe thead th {\n",
       "        text-align: right;\n",
       "    }\n",
       "</style>\n",
       "<table border=\"1\" class=\"dataframe\">\n",
       "  <thead>\n",
       "    <tr style=\"text-align: right;\">\n",
       "      <th></th>\n",
       "      <th>Total_kWh</th>\n",
       "      <th>Temperatures_in_Cel</th>\n",
       "    </tr>\n",
       "    <tr>\n",
       "      <th>Time stamp</th>\n",
       "      <th></th>\n",
       "      <th></th>\n",
       "    </tr>\n",
       "  </thead>\n",
       "  <tbody>\n",
       "    <tr>\n",
       "      <th>2021-08-01 00:00:00</th>\n",
       "      <td>47.71</td>\n",
       "      <td>15.06</td>\n",
       "    </tr>\n",
       "    <tr>\n",
       "      <th>2021-08-01 01:00:00</th>\n",
       "      <td>53.87</td>\n",
       "      <td>14.94</td>\n",
       "    </tr>\n",
       "    <tr>\n",
       "      <th>2021-08-01 02:00:00</th>\n",
       "      <td>50.19</td>\n",
       "      <td>14.78</td>\n",
       "    </tr>\n",
       "    <tr>\n",
       "      <th>2021-08-01 03:00:00</th>\n",
       "      <td>48.13</td>\n",
       "      <td>14.56</td>\n",
       "    </tr>\n",
       "    <tr>\n",
       "      <th>2021-08-01 04:00:00</th>\n",
       "      <td>44.67</td>\n",
       "      <td>14.37</td>\n",
       "    </tr>\n",
       "    <tr>\n",
       "      <th>2021-08-01 05:00:00</th>\n",
       "      <td>96.52</td>\n",
       "      <td>14.32</td>\n",
       "    </tr>\n",
       "    <tr>\n",
       "      <th>2021-08-01 06:00:00</th>\n",
       "      <td>114.04</td>\n",
       "      <td>14.68</td>\n",
       "    </tr>\n",
       "    <tr>\n",
       "      <th>2021-08-01 07:00:00</th>\n",
       "      <td>138.26</td>\n",
       "      <td>15.00</td>\n",
       "    </tr>\n",
       "    <tr>\n",
       "      <th>2021-08-01 08:00:00</th>\n",
       "      <td>135.52</td>\n",
       "      <td>15.74</td>\n",
       "    </tr>\n",
       "    <tr>\n",
       "      <th>2021-08-01 09:00:00</th>\n",
       "      <td>122.12</td>\n",
       "      <td>16.60</td>\n",
       "    </tr>\n",
       "  </tbody>\n",
       "</table>\n",
       "</div>"
      ],
      "text/plain": [
       "                     Total_kWh  Temperatures_in_Cel\n",
       "Time stamp                                         \n",
       "2021-08-01 00:00:00      47.71                15.06\n",
       "2021-08-01 01:00:00      53.87                14.94\n",
       "2021-08-01 02:00:00      50.19                14.78\n",
       "2021-08-01 03:00:00      48.13                14.56\n",
       "2021-08-01 04:00:00      44.67                14.37\n",
       "2021-08-01 05:00:00      96.52                14.32\n",
       "2021-08-01 06:00:00     114.04                14.68\n",
       "2021-08-01 07:00:00     138.26                15.00\n",
       "2021-08-01 08:00:00     135.52                15.74\n",
       "2021-08-01 09:00:00     122.12                16.60"
      ]
     },
     "execution_count": 1,
     "metadata": {},
     "output_type": "execute_result"
    }
   ],
   "source": [
    "import pandas as pd\n",
    "data=pd.read_csv('Dina_Foods.csv',parse_dates=['Time stamp'],index_col='Time stamp')\n",
    "\n",
    "data.head(10)\n",
    "# Using \"Data.head()\" --- We are going to have First 5 values from Dina Foods.csv table(By Default).\n",
    "#       \"Data.head()\" --- We use because we want first 10 values from attached table.\n",
    "# data.tail(10)\n",
    "# Using \"Data.tail()\" --- We are going to have Last 5 values from Dina Foods.csv table(By Default).\n",
    "#       \"Data.tail()\" --- We use because we want Last 10 values from attached table."
   ]
  },
  {
   "cell_type": "code",
   "execution_count": null,
   "metadata": {},
   "outputs": [],
   "source": [
    "df['2021-08'].Total_kWh "
   ]
  },
  {
   "cell_type": "code",
   "execution_count": null,
   "metadata": {},
   "outputs": [],
   "source": []
  }
 ],
 "metadata": {
  "kernelspec": {
   "display_name": "Python 3.9.13 ('base')",
   "language": "python",
   "name": "python3"
  },
  "language_info": {
   "codemirror_mode": {
    "name": "ipython",
    "version": 3
   },
   "file_extension": ".py",
   "mimetype": "text/x-python",
   "name": "python",
   "nbconvert_exporter": "python",
   "pygments_lexer": "ipython3",
   "version": "3.9.13"
  },
  "orig_nbformat": 4,
  "vscode": {
   "interpreter": {
    "hash": "6c3871cf02a2f59a632c5cca92df16eb51e6d6301ada73dfd082e02307ef571f"
   }
  }
 },
 "nbformat": 4,
 "nbformat_minor": 2
}
